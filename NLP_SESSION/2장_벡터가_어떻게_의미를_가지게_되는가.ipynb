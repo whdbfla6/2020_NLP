{
 "cells": [
  {
   "cell_type": "markdown",
   "metadata": {
    "colab_type": "text",
    "id": "xZz1RpCIwLjZ"
   },
   "source": [
    "# 자연어 처리 라이브러리\n",
    "1. NLTK  \n",
    "  - 대표적인 자연어처리 라이브러리  \n",
    "1. KoNLPy   \n",
    "  - 한글에 특화된 자연어처리 라이브러리\n",
    "  - 토큰화, 형태소 분석\n",
    "1. Gensim  \n",
    "  - 유사도 계산 등을 돕는 라이브러리\n",
    "  - Topic Modeling: LDA, LSI, HDP\n",
    "  - Word Embedding: word2vec\n",
    "1. Scikit-learn  \n",
    "  - 대표적인 머신러닝 라이브러리이자 문서 전처리용 클래스 제공  \n",
    "  - Vectorizer\n",
    "\n",
    "참고: [사회 혁신을 위한 데이터 중심의 서비스 기획자]  \n",
    "\n",
    "\n",
    "[사회 혁신을 위한 데이터 중심의 서비스 기획자]: (http://hero4earth.com/blog/learning/2018/01/17/NLP_Basics_01/)"
   ]
  },
  {
   "cell_type": "markdown",
   "metadata": {
    "colab_type": "text",
    "id": "Vphne-hSYRI5"
   },
   "source": [
    "# 벡터가 어떻게 의미를 가지게 되는가"
   ]
  },
  {
   "cell_type": "markdown",
   "metadata": {
    "colab_type": "text",
    "id": "c8Lef27CYoVI"
   },
   "source": [
    "## 자연어 계산과 이해\n",
    "- 컴퓨터로 자연어를 다루기 위해서는 임베딩을 활용한다.  \n",
    "  - 임베딩: 자연어를 숫자들의 벡터로 표현한 결과  \n",
    "- 자연어 의미를 임베딩에 함축하기 위해서 다음과 같은 세 가지 통계적 패턴 정보를 사용할 수 있다.  \n",
    "\n",
    "| 구분 | BOW | 언어모델 | 분포가정 |\n",
    "|:---:|:---:|:---:|:---:|\n",
    "| 내용 | 문장에 어떤 단어가 많이 쓰였는가 | 단어가 어떤 순서로 등장하는가 | 문장에서 어떤 단어들이 같이 나타났는가 |\n",
    "| 대표통계량 | TF-IDF | - | PMI |\n",
    "| 대표모델 | Deep Averaging Network | ELMo, GPT | Word2Vec |\n",
    "\n",
    "- 이 세 가지 정보는 말뭉치의 통계적 패턴을 서로 다른 각도에서 분석하는 것이며 상호 보완적으로 사용된다. \n"
   ]
  },
  {
   "cell_type": "markdown",
   "metadata": {
    "colab_type": "text",
    "id": "AQ4D_4wHYpZt"
   },
   "source": [
    "## 어떤 단어가 **많이** 쓰였는가 (Bag of Words)\n",
    "- 저자의 의도는 단어 사용 여부나 빈도에서 드러난다.  \n",
    "- 주제가 비슷한 문서라면 단어 빈도가 비슷할 것이다.  "
   ]
  },
  {
   "cell_type": "markdown",
   "metadata": {
    "colab_type": "text",
    "id": "uYADvTCbYsgU"
   },
   "source": [
    "### Bag of Words (BOW)\n",
    "- 단어의 등장 순서에 관계없이 문서 내 단어의 등장 빈도를 임베딩으로 쓰는 기법  \n",
    "  - Bag: 순서를 고려하지 않고 중복 원소를 허용한 집합  \n",
    "- 경우에 따라 등장 여부를 임베딩으로 사용하기도 함  \n",
    "- 예시:  \n",
    "\n",
    "|구분|메밀꽃 필 무렵|운수 좋은 날|사랑 손님과 어머니|삼포 가는 길|  \n",
    "|:---:|:---:|:---:|:---:|:---:|  \n",
    "|기차|0|2|10|7|\n",
    "|막걸리|0|1|0|0|\n",
    "|선술집|0|1|0|0|\n",
    "\n",
    "- 활용: **정보 검색** 분야에서 사용자의 질의에 가장 적절한 문서를 보여줄 때 질의를 BOW 임베딩으로 변환하고 질의와 검색 대상 문서 임베딩 간 코사인 유사도를 구해 유사도가 가장 높은 문서를 사용자에게 노출"
   ]
  },
  {
   "cell_type": "code",
   "execution_count": 8,
   "metadata": {
    "colab": {
     "base_uri": "https://localhost:8080/",
     "height": 55
    },
    "colab_type": "code",
    "executionInfo": {
     "elapsed": 111347,
     "status": "ok",
     "timestamp": 1600697767752,
     "user": {
      "displayName": "전은지",
      "photoUrl": "",
      "userId": "10430352422751678562"
     },
     "user_tz": -540
    },
    "id": "QUBbLGi39cro",
    "outputId": "35511589-7abc-4e16-f1e4-29dd95d20bc4"
   },
   "outputs": [
    {
     "name": "stdout",
     "output_type": "stream",
     "text": [
      "['정부', '가', '발표', '하', '는', '물가', '상', '승률', '과', '소비자', '가', '느끼', '는', '물가', '상승', '률', '은', '다르', '다']\n"
     ]
    }
   ],
   "source": [
    "from konlpy.tag import Mecab\n",
    "import re  \n",
    "mecab=Mecab()  \n",
    "\n",
    "# 정규 표현식을 통해 특수문자를 제거한다.\n",
    "token=re.sub(\"[-=+,#/\\?:^$.@*\\\"※~&%ㆍ!』\\\\‘|\\(\\)\\[\\]\\<\\>`\\'…》]\",\"\",\"정부가 발표하는 물가상승률과 소비자가 느끼는 물가상승률은 다르다.\")  \n",
    "\n",
    "# mecab 형태소 분석기를 이용해 토큰화 작업을 진행한다.  \n",
    "token=mecab.morphs(token)  \n",
    "print(token)"
   ]
  },
  {
   "cell_type": "markdown",
   "metadata": {
    "colab_type": "text",
    "id": "ibBkHDKKFrua"
   },
   "source": [
    "- **Mecab?**\n",
    "  - Mecab을 사용한 이유는 다른 한글 형태소 분석기에 비해 빠른 속도로 진행되어 문자의 개수가 많을 때도 비교적 빠르게 분석을 진행하는 편이기 때문.   \n",
    "\n",
    "![pos 성능](https://img1.daumcdn.net/thumb/R1280x0/?scode=mtistory2&fname=https%3A%2F%2Fblog.kakaocdn.net%2Fdn%2FBbmIQ%2FbtqCpP3Csef%2FegcT4nWKRIViw37DOBdCk0%2Fimg.png)\n",
    "\n",
    "  - 성능에 관한 비교분석은 [출처]를 참고함.\n",
    "\n",
    "[출처]: https://mr-doosun.tistory.com/22\n",
    "\n",
    "- **토큰화?**\n",
    "  - 토큰화는 이후에 설명하겠지만 형태소에 따라 문장을 나눠줌.  \n",
    "  - 위 문장에서는 모든 특수문자를 제거했으나 사실 단순 제외해서는 안됨.  \n",
    "  - 예를 들어 'Q&A'라던가 '$100' 등 특수문자를 제거했을 때 그 의미가 변할 수 있기 때문"
   ]
  },
  {
   "cell_type": "code",
   "execution_count": 9,
   "metadata": {
    "colab": {
     "base_uri": "https://localhost:8080/",
     "height": 55
    },
    "colab_type": "code",
    "executionInfo": {
     "elapsed": 102099,
     "status": "ok",
     "timestamp": 1600697767756,
     "user": {
      "displayName": "전은지",
      "photoUrl": "",
      "userId": "10430352422751678562"
     },
     "user_tz": -540
    },
    "id": "7KMjRdMlBBeq",
    "outputId": "622848b5-6d0c-415e-c3c8-dac6d1fe0fb6"
   },
   "outputs": [
    {
     "name": "stdout",
     "output_type": "stream",
     "text": [
      "{'정부': 0, '가': 1, '발표': 2, '하': 3, '는': 4, '물가': 5, '상': 6, '승률': 7, '과': 8, '소비자': 9, '느끼': 10, '상승': 11, '률': 12, '은': 13, '다르': 14, '다': 15}\n"
     ]
    }
   ],
   "source": [
    "word2index={}  # 단어들의 인덱스 번호를 저장한다. \n",
    "bow=[]  # 단어들의 출현 횟수를 센다. \n",
    "\n",
    "for voca in token:  \n",
    "    if voca not in word2index.keys():  \n",
    "        # token에 있는 단어들 중 word2index에 없는 단어를 새로 추가한다.  \n",
    "        word2index[voca]=len(word2index) # index 번호   \n",
    "        # 단어는 최소 1번 이상 등장했기 때문에 bow에 1을 넣어준다.\n",
    "        bow.insert(len(word2index)-1,1)\n",
    "    else:\n",
    "        # word2index에 있는 단어(재등장)의 경우 단어의 개수에 +1을 해준다.\n",
    "        index=word2index.get(voca)\n",
    "        bow[index]=bow[index]+1\n",
    "\n",
    "print(word2index)  "
   ]
  },
  {
   "cell_type": "code",
   "execution_count": 10,
   "metadata": {
    "colab": {
     "base_uri": "https://localhost:8080/",
     "height": 305
    },
    "colab_type": "code",
    "executionInfo": {
     "elapsed": 99740,
     "status": "ok",
     "timestamp": 1600697767758,
     "user": {
      "displayName": "전은지",
      "photoUrl": "",
      "userId": "10430352422751678562"
     },
     "user_tz": -540
    },
    "id": "ut5v90CD_TPg",
    "outputId": "9fa6fe96-4ff5-4357-cf12-9480da824cca"
   },
   "outputs": [
    {
     "name": "stdout",
     "output_type": "stream",
     "text": [
      "정부 : 1 번\n",
      "가 : 2 번\n",
      "발표 : 1 번\n",
      "하 : 1 번\n",
      "는 : 2 번\n",
      "물가 : 2 번\n",
      "상 : 1 번\n",
      "승률 : 1 번\n",
      "과 : 1 번\n",
      "소비자 : 1 번\n",
      "느끼 : 1 번\n",
      "상승 : 1 번\n",
      "률 : 1 번\n",
      "은 : 1 번\n",
      "다르 : 1 번\n",
      "다 : 1 번\n"
     ]
    }
   ],
   "source": [
    "for i in range(len(word2index.keys())):\n",
    "    print('%s : %d 번' % (list(word2index.keys())[i], bow[i]))"
   ]
  },
  {
   "cell_type": "markdown",
   "metadata": {
    "colab_type": "text",
    "id": "M6ljh936KSCo"
   },
   "source": [
    "- 명사만 추출하여 분석을 진행하는 경우도 많다."
   ]
  },
  {
   "cell_type": "code",
   "execution_count": 11,
   "metadata": {
    "colab": {
     "base_uri": "https://localhost:8080/",
     "height": 125
    },
    "colab_type": "code",
    "executionInfo": {
     "elapsed": 98785,
     "status": "ok",
     "timestamp": 1600697767759,
     "user": {
      "displayName": "전은지",
      "photoUrl": "",
      "userId": "10430352422751678562"
     },
     "user_tz": -540
    },
    "id": "zHc4R3duKZC1",
    "outputId": "01290a12-6af5-4556-d805-2d183bc6802f"
   },
   "outputs": [
    {
     "name": "stdout",
     "output_type": "stream",
     "text": [
      "정부 : 1 번\n",
      "발표 : 1 번\n",
      "물가 : 2 번\n",
      "승률 : 1 번\n",
      "소비자 : 1 번\n",
      "상승 : 1 번\n"
     ]
    }
   ],
   "source": [
    "token=re.sub(\"[-=+,#/\\?:^$.@*\\\"※~&%ㆍ!』\\\\‘|\\(\\)\\[\\]\\<\\>`\\'…》]\",\"\",\"정부가 발표하는 물가상승률과 소비자가 느끼는 물가상승률은 다르다.\")  \n",
    "\n",
    "token=mecab.nouns(token)  \n",
    "\n",
    "word2index={}  \n",
    "bow=[]  \n",
    "\n",
    "for voca in token:  \n",
    "    if voca not in word2index.keys():  \n",
    "        word2index[voca]=len(word2index) \n",
    "        bow.insert(len(word2index)-1,1)\n",
    "    else:\n",
    "        index=word2index.get(voca)\n",
    "        bow[index]=bow[index]+1\n",
    "\n",
    "for i in range(len(word2index.keys())):\n",
    "    print('%s : %d 번' % (list(word2index.keys())[i], bow[i]))"
   ]
  },
  {
   "cell_type": "markdown",
   "metadata": {
    "colab_type": "text",
    "id": "4EJVQUH6Yvbt"
   },
   "source": [
    "### TF-IDF(Term Frequency-Inverse Document Frequency)\n",
    "- 등장 배경:  \n",
    "  - 조사 같은 경우는 등장 빈도가 높지만 문서의 주제를 제대로 표현하는 단어라고 하기 어려움  \n",
    "  - 이를 극복하기 위해 등장 빈도가 높은 단어들의 가중치를 낮추어 표현하는 기법인 TF-IDF 등장  \n",
    "- 단어-문서 행렬(Document Term Matrix; DTM)에 가중치를 계산하여 값을 부여  \n",
    "  - 어떤 단어의 주제 예측력(해당 단어를 통해 문서의 주제를 가늠할 수 있는 정도)가 강할 수록 가중치가 커지도록 아래와 같이 수식 설계  \n",
    "  $$TfIdf(w)=TF(w)\\times log(\\frac{N}{DF(w)})$$\n",
    "  - TF: 어떤 단어가 특정 문서에 얼마나 많이 쓰였는지 단순 빈도를 나타낸다.  \n",
    "  - DF: 특정 단어가 나타난 문서의 수  \n",
    "  - IDF: 전체 문서 수(N)을 해당 단어의 DF로 나눈 뒤 로그를 취한 값  \n",
    "  - 단어의 TF가 높으면 TF-IDF 값이 커지고, 단어가 많은 문서에 등장할 수록(DF가 커지면) TF-IDF 값이 작아짐  "
   ]
  },
  {
   "cell_type": "markdown",
   "metadata": {
    "colab_type": "text",
    "id": "ulx-oOYVdioZ"
   },
   "source": [
    "- DTM: 다수의 문서에서 등장하는 단어들의 빈도를 행렬로 표현한 것  \n",
    "  - BOW를 하나의 행렬로 만든 것이라 생각할 수 있음\n",
    "  "
   ]
  },
  {
   "cell_type": "code",
   "execution_count": 12,
   "metadata": {
    "colab": {},
    "colab_type": "code",
    "executionInfo": {
     "elapsed": 97778,
     "status": "ok",
     "timestamp": 1600697768347,
     "user": {
      "displayName": "전은지",
      "photoUrl": "",
      "userId": "10430352422751678562"
     },
     "user_tz": -540
    },
    "id": "cTv-At3DeTe9"
   },
   "outputs": [],
   "source": [
    "import pandas as pd\n",
    "from sklearn.feature_extraction.text import CountVectorizer, TfidfVectorizer"
   ]
  },
  {
   "cell_type": "code",
   "execution_count": 13,
   "metadata": {
    "colab": {
     "base_uri": "https://localhost:8080/",
     "height": 210
    },
    "colab_type": "code",
    "executionInfo": {
     "elapsed": 97270,
     "status": "ok",
     "timestamp": 1600697768350,
     "user": {
      "displayName": "전은지",
      "photoUrl": "",
      "userId": "10430352422751678562"
     },
     "user_tz": -540
    },
    "id": "AtLFyG_bdbTW",
    "outputId": "6718d9a9-6ed4-4035-a52c-085a6256b533"
   },
   "outputs": [
    {
     "data": {
      "text/html": [
       "<div>\n",
       "<style scoped>\n",
       "    .dataframe tbody tr th:only-of-type {\n",
       "        vertical-align: middle;\n",
       "    }\n",
       "\n",
       "    .dataframe tbody tr th {\n",
       "        vertical-align: top;\n",
       "    }\n",
       "\n",
       "    .dataframe thead th {\n",
       "        text-align: right;\n",
       "    }\n",
       "</style>\n",
       "<table border=\"1\" class=\"dataframe\">\n",
       "  <thead>\n",
       "    <tr style=\"text-align: right;\">\n",
       "      <th></th>\n",
       "      <th>가득</th>\n",
       "      <th>가을</th>\n",
       "      <th>그랬듯</th>\n",
       "      <th>기쁨이야</th>\n",
       "      <th>깬다</th>\n",
       "      <th>내겐</th>\n",
       "      <th>냉기에</th>\n",
       "      <th>노랫소리</th>\n",
       "      <th>눈부시게</th>\n",
       "      <th>들려오면</th>\n",
       "      <th>말까</th>\n",
       "      <th>비쳐오고</th>\n",
       "      <th>새들</th>\n",
       "      <th>서늘한</th>\n",
       "      <th>아쉽게</th>\n",
       "      <th>아침</th>\n",
       "      <th>언제나</th>\n",
       "      <th>이른</th>\n",
       "      <th>작은</th>\n",
       "      <th>잠을</th>\n",
       "      <th>재채기할까</th>\n",
       "      <th>정말</th>\n",
       "      <th>창문</th>\n",
       "      <th>커다란</th>\n",
       "      <th>하나</th>\n",
       "      <th>햇살</th>\n",
       "      <th>행복이야</th>\n",
       "    </tr>\n",
       "  </thead>\n",
       "  <tbody>\n",
       "    <tr>\n",
       "      <th>0</th>\n",
       "      <td>0</td>\n",
       "      <td>0</td>\n",
       "      <td>1</td>\n",
       "      <td>0</td>\n",
       "      <td>1</td>\n",
       "      <td>0</td>\n",
       "      <td>0</td>\n",
       "      <td>1</td>\n",
       "      <td>0</td>\n",
       "      <td>1</td>\n",
       "      <td>0</td>\n",
       "      <td>0</td>\n",
       "      <td>1</td>\n",
       "      <td>0</td>\n",
       "      <td>1</td>\n",
       "      <td>1</td>\n",
       "      <td>1</td>\n",
       "      <td>1</td>\n",
       "      <td>1</td>\n",
       "      <td>1</td>\n",
       "      <td>0</td>\n",
       "      <td>0</td>\n",
       "      <td>0</td>\n",
       "      <td>0</td>\n",
       "      <td>0</td>\n",
       "      <td>0</td>\n",
       "      <td>0</td>\n",
       "    </tr>\n",
       "    <tr>\n",
       "      <th>1</th>\n",
       "      <td>1</td>\n",
       "      <td>0</td>\n",
       "      <td>0</td>\n",
       "      <td>0</td>\n",
       "      <td>0</td>\n",
       "      <td>0</td>\n",
       "      <td>1</td>\n",
       "      <td>0</td>\n",
       "      <td>1</td>\n",
       "      <td>0</td>\n",
       "      <td>1</td>\n",
       "      <td>1</td>\n",
       "      <td>0</td>\n",
       "      <td>1</td>\n",
       "      <td>0</td>\n",
       "      <td>0</td>\n",
       "      <td>0</td>\n",
       "      <td>0</td>\n",
       "      <td>0</td>\n",
       "      <td>0</td>\n",
       "      <td>1</td>\n",
       "      <td>0</td>\n",
       "      <td>1</td>\n",
       "      <td>0</td>\n",
       "      <td>1</td>\n",
       "      <td>1</td>\n",
       "      <td>0</td>\n",
       "    </tr>\n",
       "    <tr>\n",
       "      <th>2</th>\n",
       "      <td>0</td>\n",
       "      <td>2</td>\n",
       "      <td>0</td>\n",
       "      <td>1</td>\n",
       "      <td>0</td>\n",
       "      <td>2</td>\n",
       "      <td>0</td>\n",
       "      <td>0</td>\n",
       "      <td>0</td>\n",
       "      <td>0</td>\n",
       "      <td>0</td>\n",
       "      <td>0</td>\n",
       "      <td>0</td>\n",
       "      <td>0</td>\n",
       "      <td>0</td>\n",
       "      <td>2</td>\n",
       "      <td>0</td>\n",
       "      <td>0</td>\n",
       "      <td>0</td>\n",
       "      <td>0</td>\n",
       "      <td>0</td>\n",
       "      <td>2</td>\n",
       "      <td>0</td>\n",
       "      <td>2</td>\n",
       "      <td>0</td>\n",
       "      <td>0</td>\n",
       "      <td>1</td>\n",
       "    </tr>\n",
       "  </tbody>\n",
       "</table>\n",
       "</div>"
      ],
      "text/plain": [
       "   가득  가을  그랬듯  기쁨이야  깬다  내겐  냉기에  노랫소리  ...  잠을  재채기할까  정말  창문  커다란  하나  햇살  행복이야\n",
       "0   0   0    1     0   1   0    0     1  ...   1      0   0   0    0   0   0     0\n",
       "1   1   0    0     0   0   0    1     0  ...   0      1   0   1    0   1   1     0\n",
       "2   0   2    0     1   0   2    0     0  ...   0      0   2   0    2   0   0     1\n",
       "\n",
       "[3 rows x 27 columns]"
      ]
     },
     "execution_count": 13,
     "metadata": {
      "tags": []
     },
     "output_type": "execute_result"
    }
   ],
   "source": [
    "docs = ['이른 아침 작은 새들 노랫소리 들려오면 언제나 그랬듯 아쉽게 잠을 깬다',\n",
    "        '창문 하나 햇살 가득 눈부시게 비쳐오고 서늘한 냉기에 재채기할까 말까',\n",
    "        '가을 아침 내겐 정말 커다란 기쁨이야 가을 아침 내겐 정말 커다란 행복이야']\n",
    "\n",
    "# Term Frequency만 사용한 경우\n",
    "tf = CountVectorizer()\n",
    "dtm = tf.fit_transform(docs)\n",
    "\n",
    "dt = pd.DataFrame(dtm.toarray())\n",
    "dt.columns = tf.get_feature_names()\n",
    "dt"
   ]
  },
  {
   "cell_type": "code",
   "execution_count": 14,
   "metadata": {
    "colab": {
     "base_uri": "https://localhost:8080/",
     "height": 179
    },
    "colab_type": "code",
    "executionInfo": {
     "elapsed": 96824,
     "status": "ok",
     "timestamp": 1600697768352,
     "user": {
      "displayName": "전은지",
      "photoUrl": "",
      "userId": "10430352422751678562"
     },
     "user_tz": -540
    },
    "id": "hq3_Ldasd_Kf",
    "outputId": "a7ec9254-bd9a-49c4-eb72-4c6297689625"
   },
   "outputs": [
    {
     "data": {
      "text/html": [
       "<div>\n",
       "<style scoped>\n",
       "    .dataframe tbody tr th:only-of-type {\n",
       "        vertical-align: middle;\n",
       "    }\n",
       "\n",
       "    .dataframe tbody tr th {\n",
       "        vertical-align: top;\n",
       "    }\n",
       "\n",
       "    .dataframe thead th {\n",
       "        text-align: right;\n",
       "    }\n",
       "</style>\n",
       "<table border=\"1\" class=\"dataframe\">\n",
       "  <thead>\n",
       "    <tr style=\"text-align: right;\">\n",
       "      <th></th>\n",
       "      <th>가득</th>\n",
       "      <th>가을</th>\n",
       "      <th>그랬듯</th>\n",
       "      <th>기쁨이야</th>\n",
       "      <th>깬다</th>\n",
       "      <th>내겐</th>\n",
       "      <th>냉기에</th>\n",
       "      <th>노랫소리</th>\n",
       "      <th>눈부시게</th>\n",
       "      <th>들려오면</th>\n",
       "      <th>말까</th>\n",
       "      <th>비쳐오고</th>\n",
       "      <th>새들</th>\n",
       "      <th>서늘한</th>\n",
       "      <th>아쉽게</th>\n",
       "      <th>아침</th>\n",
       "      <th>언제나</th>\n",
       "      <th>이른</th>\n",
       "      <th>작은</th>\n",
       "      <th>잠을</th>\n",
       "      <th>재채기할까</th>\n",
       "      <th>정말</th>\n",
       "      <th>창문</th>\n",
       "      <th>커다란</th>\n",
       "      <th>하나</th>\n",
       "      <th>햇살</th>\n",
       "      <th>행복이야</th>\n",
       "    </tr>\n",
       "  </thead>\n",
       "  <tbody>\n",
       "    <tr>\n",
       "      <th>0</th>\n",
       "      <td>0.000000</td>\n",
       "      <td>0.000000</td>\n",
       "      <td>0.307461</td>\n",
       "      <td>0.000000</td>\n",
       "      <td>0.307461</td>\n",
       "      <td>0.000000</td>\n",
       "      <td>0.000000</td>\n",
       "      <td>0.307461</td>\n",
       "      <td>0.000000</td>\n",
       "      <td>0.307461</td>\n",
       "      <td>0.000000</td>\n",
       "      <td>0.000000</td>\n",
       "      <td>0.307461</td>\n",
       "      <td>0.000000</td>\n",
       "      <td>0.307461</td>\n",
       "      <td>0.233832</td>\n",
       "      <td>0.307461</td>\n",
       "      <td>0.307461</td>\n",
       "      <td>0.307461</td>\n",
       "      <td>0.307461</td>\n",
       "      <td>0.000000</td>\n",
       "      <td>0.000000</td>\n",
       "      <td>0.000000</td>\n",
       "      <td>0.000000</td>\n",
       "      <td>0.000000</td>\n",
       "      <td>0.000000</td>\n",
       "      <td>0.000000</td>\n",
       "    </tr>\n",
       "    <tr>\n",
       "      <th>1</th>\n",
       "      <td>0.316228</td>\n",
       "      <td>0.000000</td>\n",
       "      <td>0.000000</td>\n",
       "      <td>0.000000</td>\n",
       "      <td>0.000000</td>\n",
       "      <td>0.000000</td>\n",
       "      <td>0.316228</td>\n",
       "      <td>0.000000</td>\n",
       "      <td>0.316228</td>\n",
       "      <td>0.000000</td>\n",
       "      <td>0.316228</td>\n",
       "      <td>0.316228</td>\n",
       "      <td>0.000000</td>\n",
       "      <td>0.316228</td>\n",
       "      <td>0.000000</td>\n",
       "      <td>0.000000</td>\n",
       "      <td>0.000000</td>\n",
       "      <td>0.000000</td>\n",
       "      <td>0.000000</td>\n",
       "      <td>0.000000</td>\n",
       "      <td>0.316228</td>\n",
       "      <td>0.000000</td>\n",
       "      <td>0.316228</td>\n",
       "      <td>0.000000</td>\n",
       "      <td>0.316228</td>\n",
       "      <td>0.316228</td>\n",
       "      <td>0.000000</td>\n",
       "    </tr>\n",
       "    <tr>\n",
       "      <th>2</th>\n",
       "      <td>0.000000</td>\n",
       "      <td>0.443748</td>\n",
       "      <td>0.000000</td>\n",
       "      <td>0.221874</td>\n",
       "      <td>0.000000</td>\n",
       "      <td>0.443748</td>\n",
       "      <td>0.000000</td>\n",
       "      <td>0.000000</td>\n",
       "      <td>0.000000</td>\n",
       "      <td>0.000000</td>\n",
       "      <td>0.000000</td>\n",
       "      <td>0.000000</td>\n",
       "      <td>0.000000</td>\n",
       "      <td>0.000000</td>\n",
       "      <td>0.000000</td>\n",
       "      <td>0.337482</td>\n",
       "      <td>0.000000</td>\n",
       "      <td>0.000000</td>\n",
       "      <td>0.000000</td>\n",
       "      <td>0.000000</td>\n",
       "      <td>0.000000</td>\n",
       "      <td>0.443748</td>\n",
       "      <td>0.000000</td>\n",
       "      <td>0.443748</td>\n",
       "      <td>0.000000</td>\n",
       "      <td>0.000000</td>\n",
       "      <td>0.221874</td>\n",
       "    </tr>\n",
       "  </tbody>\n",
       "</table>\n",
       "</div>"
      ],
      "text/plain": [
       "         가득        가을       그랬듯  ...        하나        햇살      행복이야\n",
       "0  0.000000  0.000000  0.307461  ...  0.000000  0.000000  0.000000\n",
       "1  0.316228  0.000000  0.000000  ...  0.316228  0.316228  0.000000\n",
       "2  0.000000  0.443748  0.000000  ...  0.000000  0.000000  0.221874\n",
       "\n",
       "[3 rows x 27 columns]"
      ]
     },
     "execution_count": 14,
     "metadata": {
      "tags": []
     },
     "output_type": "execute_result"
    }
   ],
   "source": [
    "# Tf-idf를 사용한 경우\n",
    "tfidf = TfidfVectorizer()\n",
    "dtm = tfidf.fit_transform(docs)\n",
    "\n",
    "dt = pd.DataFrame(dtm.toarray())\n",
    "dt.columns = tfidf.get_feature_names()\n",
    "dt"
   ]
  },
  {
   "cell_type": "markdown",
   "metadata": {
    "colab_type": "text",
    "id": "fYpXi5fAYyiW"
   },
   "source": [
    "### Deep Averaging Network(DAN)\n",
    "- BOW 가정의 뉴럴 네트워크 버전  \n",
    "![DAN](https://miro.medium.com/max/700/1*dTDCBiClMUcFr1sJ2QdJTQ.png)\n",
    "  1. 단어의 순서를 고려하지 않고, 단어의 임베딩 전체의 평균을 계산  \n",
    "    - dropout-inspired regularization technique을 사용하면 성능이 더 좋아짐  \n",
    "    - Dropout 정규화는 임의의 히든 레이어, 입력 유닛을 0이나 확률값 p로 만들어 오버피팅을 방지하는 방법  \n",
    "    - DAN에서는 임의의 토큰의 임베딩 전체를 평균에서 제거  \n",
    "  1. 평균값은 히든 레이어로 보냄  \n",
    "  1. 결과값을 softmax 레이어에 보내 분류\n",
    "  - 간단하지만 성능이 좋아 현업에서 분류 문제에 많이 사용  \n",
    "\n",
    "참고:  \n",
    "- [A Method for Building a Strong Baseline Text Classifier](https://medium.com/@dhoeschele/a-method-for-building-a-strong-baseline-text-classifier-53451ee6c250)  \n",
    "- [Pytorch Deep Average Network as Baseline](https://www.kaggle.com/bobazooba/pytorch-deep-average-network-as-baseline)\n"
   ]
  },
  {
   "cell_type": "markdown",
   "metadata": {
    "colab_type": "text",
    "id": "5tu2ZmEMBVel"
   },
   "source": [
    "- 예를 들어,  \n",
    "$s_1$은 'I really **loved** Rosamund Pike's performance in the movie Gone Girl'  \n",
    "$s_2$은 'I really **liked** Rosamund Pike's performance in the movie Gone Girl'  \n",
    "$s_3$은 'I really **despised** Rosamund Pike's performance in the movie Gone Girl'  \n",
    "라고 한다면, 세 문장의 벡터 평균값은 비슷하겠지만 $s_1$과 $s_2$의 평균끼리가 더 유사할 것  \n",
    "이 차이를 더 크게 하기 위해 히든 레이어들을 추가하여 표현함  \n",
    "  \n",
    "- 출처: (논문) Deep Unordered Composition Rivals Syntactic Methods for Text Classification "
   ]
  },
  {
   "cell_type": "markdown",
   "metadata": {
    "colab_type": "text",
    "id": "fd-eJ1f_Y1-P"
   },
   "source": [
    "## 단어가 어떤 **순서**로 쓰였는가 (언어 모델)\n",
    "- 단어의 **등장 순서**를 학습해 주어진 단어 시퀀스가 얼마나 자연스러운지 확률 부여  "
   ]
  },
  {
   "cell_type": "markdown",
   "metadata": {
    "colab_type": "text",
    "id": "nfXSYAWSZDWF"
   },
   "source": [
    "### 통계 기반 언어 모델\n",
    "- 단어가 n개 주어질 경우 n개 단어가 동시에 나타날 확률 $P(w_1, w_2, ..., w_n)$을 반환  \n",
    "- 조건부 확률을 활용해 최대우도추정법(MLE)으로 표현하면 다음과 같음  \n",
    "$$P(w_5|w_1, w_2, w_3, w_4) = \\frac{Freq(w_1, w_2, w_3, w_4, w_5)}{Freq(w_1, w_2, w_3, w_4)} $$\n",
    "- 위의 식에서 단어들이 한 번도 등장하지 않는다면 분자가 0이 될 수 있음 → 희소 문제(Sparsity Problem) 발생  \n",
    "- 희소 문제를 완화하기 위해 n-gram(n개의 단어를 묶은 것)을 사용  \n",
    "  - 직전 $n-1$개의 단어를 사용하여 전체 단어 시퀀스 등장 확률을 근사하는 방법  \n",
    "  ![n-gram](https://wikidocs.net/images/page/21692/n-gram.PNG)\n",
    "  - 한 상태의 확률은 그 직전 상태에만 의존한다는 마코프(Markov) 가정에 기반한 것  \n",
    "  - 바이그램을 사용한다면 전체 단어의 등장 확률을 아래와 같이 수정하여 표현할 수 있음  \n",
    "  $$P(w_1, w_2, w_3, w_4, w_5) \\\\\n",
    "  \\approx P(w_1) \\times P(w_2|w_1) \\times P(w_3|w_2) \\times P(w_4|w_3) \\times P(w_5|w_4) $$\n",
    "  - n-gram을 사용하여 모델의 식을 수정하면 아래와 같음  \n",
    "  $$P(w_n|w_{n-1}) = \\frac{Freq(w_n, w_{n-1})}{Freq(w_{n-1})} $$\n",
    "  - tradeoff: n을 크게 선택하면 희소 문제가 커지고 모델 사이즈가 커짐. 작게 선택하면 근사의 정확도는 현실과 멀어짐. 따라서 **최대 5를 넘지 말기를 권장**. (출처: [딥러닝을 이용한 자연어처리 입문])\n",
    "  [딥러닝을 이용한 자연어처리 입문]: https://wikidocs.net/21692\n",
    "\n"
   ]
  },
  {
   "cell_type": "code",
   "execution_count": 15,
   "metadata": {
    "colab": {},
    "colab_type": "code",
    "executionInfo": {
     "elapsed": 94942,
     "status": "ok",
     "timestamp": 1600697768353,
     "user": {
      "displayName": "전은지",
      "photoUrl": "",
      "userId": "10430352422751678562"
     },
     "user_tz": -540
    },
    "id": "PfIpWPeXmfR_"
   },
   "outputs": [],
   "source": [
    "# https://lovit.github.io/nlp/2018/10/23/ngram/ 를 참고하여 수정함\n",
    "\n",
    "from collections import defaultdict\n",
    "\n",
    "def get_ngram_counter(docs, min_count=10, n_range=(1,3)):\n",
    "\n",
    "    def to_ngrams(words, n):\n",
    "        ngrams = []\n",
    "        for b in range(0, len(words) - n + 1):\n",
    "            ngrams.append(tuple(words[b:b+n]))\n",
    "        return ngrams\n",
    "\n",
    "    n_begin, n_end = n_range\n",
    "    ngram_counter = defaultdict(int)\n",
    "    for doc in docs:\n",
    "        words = mecab.pos(doc, join=True)\n",
    "        for n in range(n_begin, n_end + 1):\n",
    "            for ngram in to_ngrams(words, n):\n",
    "                ngram_counter[ngram] += 1\n",
    "\n",
    "    ngram_counter = {\n",
    "        ngram:count for ngram, count in ngram_counter.items()\n",
    "        if count >= min_count\n",
    "    }\n",
    "\n",
    "    return ngram_counter\n",
    "\n",
    "class NgramTokenizer:\n",
    "\n",
    "    def __init__(self, ngrams, base_tokenizer, n_range=(1, 3)):\n",
    "        self.ngrams = ngrams\n",
    "        self.base_tokenizer = base_tokenizer\n",
    "        self.n_range = n_range\n",
    "\n",
    "    def __call__(self, sent):\n",
    "        return self.tokenize(sent)\n",
    "\n",
    "    def tokenize(self, sent):\n",
    "        if not sent:\n",
    "            return []\n",
    "\n",
    "        unigrams = self.base_tokenizer.pos(sent, join=True)\n",
    "\n",
    "        n_begin, n_end = self.n_range\n",
    "        ngrams = []\n",
    "        for n in range(n_begin, n_end + 1):\n",
    "            for ngram in self.to_ngrams(unigrams, n):\n",
    "                ngrams.append(' - '.join(ngram))\n",
    "        return ngrams\n",
    "\n",
    "    def to_ngrams(self, words, n):\n",
    "        ngrams = []\n",
    "        for b in range(0, len(words) - n + 1):\n",
    "            ngrams.append(tuple(words[b:b+n]))\n",
    "        return ngrams"
   ]
  },
  {
   "cell_type": "code",
   "execution_count": 16,
   "metadata": {
    "colab": {},
    "colab_type": "code",
    "executionInfo": {
     "elapsed": 94439,
     "status": "ok",
     "timestamp": 1600697768355,
     "user": {
      "displayName": "전은지",
      "photoUrl": "",
      "userId": "10430352422751678562"
     },
     "user_tz": -540
    },
    "id": "onbyW3JOm0-P"
   },
   "outputs": [],
   "source": [
    "ngram_counter = get_ngram_counter(docs, min_count=2) # 2번 이상 등장\n",
    "ngram_tokenizer = NgramTokenizer(ngram_counter, mecab)"
   ]
  },
  {
   "cell_type": "code",
   "execution_count": 17,
   "metadata": {
    "colab": {
     "base_uri": "https://localhost:8080/",
     "height": 881
    },
    "colab_type": "code",
    "executionInfo": {
     "elapsed": 93812,
     "status": "ok",
     "timestamp": 1600697768357,
     "user": {
      "displayName": "전은지",
      "photoUrl": "",
      "userId": "10430352422751678562"
     },
     "user_tz": -540
    },
    "id": "GMYqpFienS8V",
    "outputId": "426afebe-e9e1-4657-ab52-4124a423e071"
   },
   "outputs": [
    {
     "data": {
      "text/plain": [
       "['이른/VA+ETM',\n",
       " '아침/NNG',\n",
       " '작/VA',\n",
       " '은/ETM',\n",
       " '새/NNG',\n",
       " '들/XSN',\n",
       " '노랫소리/NNG',\n",
       " '들려오/VV',\n",
       " '면/EC',\n",
       " '언제나/MAG',\n",
       " '그랬/VV+EP',\n",
       " '듯/EC',\n",
       " '아쉽/VA',\n",
       " '게/EC',\n",
       " '잠/NNG',\n",
       " '을/JKO',\n",
       " '깬다/VV+EC',\n",
       " '이른/VA+ETM - 아침/NNG',\n",
       " '아침/NNG - 작/VA',\n",
       " '작/VA - 은/ETM',\n",
       " '은/ETM - 새/NNG',\n",
       " '새/NNG - 들/XSN',\n",
       " '들/XSN - 노랫소리/NNG',\n",
       " '노랫소리/NNG - 들려오/VV',\n",
       " '들려오/VV - 면/EC',\n",
       " '면/EC - 언제나/MAG',\n",
       " '언제나/MAG - 그랬/VV+EP',\n",
       " '그랬/VV+EP - 듯/EC',\n",
       " '듯/EC - 아쉽/VA',\n",
       " '아쉽/VA - 게/EC',\n",
       " '게/EC - 잠/NNG',\n",
       " '잠/NNG - 을/JKO',\n",
       " '을/JKO - 깬다/VV+EC',\n",
       " '이른/VA+ETM - 아침/NNG - 작/VA',\n",
       " '아침/NNG - 작/VA - 은/ETM',\n",
       " '작/VA - 은/ETM - 새/NNG',\n",
       " '은/ETM - 새/NNG - 들/XSN',\n",
       " '새/NNG - 들/XSN - 노랫소리/NNG',\n",
       " '들/XSN - 노랫소리/NNG - 들려오/VV',\n",
       " '노랫소리/NNG - 들려오/VV - 면/EC',\n",
       " '들려오/VV - 면/EC - 언제나/MAG',\n",
       " '면/EC - 언제나/MAG - 그랬/VV+EP',\n",
       " '언제나/MAG - 그랬/VV+EP - 듯/EC',\n",
       " '그랬/VV+EP - 듯/EC - 아쉽/VA',\n",
       " '듯/EC - 아쉽/VA - 게/EC',\n",
       " '아쉽/VA - 게/EC - 잠/NNG',\n",
       " '게/EC - 잠/NNG - 을/JKO',\n",
       " '잠/NNG - 을/JKO - 깬다/VV+EC']"
      ]
     },
     "execution_count": 17,
     "metadata": {
      "tags": []
     },
     "output_type": "execute_result"
    }
   ],
   "source": [
    "ngram_tokenizer(docs[0])"
   ]
  },
  {
   "cell_type": "code",
   "execution_count": 18,
   "metadata": {
    "colab": {
     "base_uri": "https://localhost:8080/",
     "height": 35
    },
    "colab_type": "code",
    "executionInfo": {
     "elapsed": 93208,
     "status": "ok",
     "timestamp": 1600697768359,
     "user": {
      "displayName": "전은지",
      "photoUrl": "",
      "userId": "10430352422751678562"
     },
     "user_tz": -540
    },
    "id": "fvXvu906oOUF",
    "outputId": "3115977e-1883-41e1-d247-b68a2e11e63f"
   },
   "outputs": [
    {
     "data": {
      "text/plain": [
       "(3, 124)"
      ]
     },
     "execution_count": 18,
     "metadata": {
      "tags": []
     },
     "output_type": "execute_result"
    }
   ],
   "source": [
    "vectorizer = CountVectorizer(\n",
    "    tokenizer = ngram_tokenizer,\n",
    "    lowercase = False,\n",
    ")\n",
    "x = vectorizer.fit_transform(docs)\n",
    "x.shape"
   ]
  },
  {
   "cell_type": "code",
   "execution_count": 19,
   "metadata": {
    "colab": {
     "base_uri": "https://localhost:8080/",
     "height": 55
    },
    "colab_type": "code",
    "executionInfo": {
     "elapsed": 92704,
     "status": "ok",
     "timestamp": 1600697768361,
     "user": {
      "displayName": "전은지",
      "photoUrl": "",
      "userId": "10430352422751678562"
     },
     "user_tz": -540
    },
    "id": "mx7Eg4PkoqJT",
    "outputId": "6003ba39-67ad-4841-abcb-5a36796e181b"
   },
   "outputs": [
    {
     "data": {
      "text/plain": [
       "dict_items([(('아침/NNG',), 3), (('게/EC',), 2), (('가을/NNG',), 2), (('내겐/NP+JKB+JX',), 2), (('정말/MAG',), 2), (('커다란/VA+ETM',), 2), (('이/VCP',), 2), (('야/EC',), 2), (('가을/NNG', '아침/NNG'), 2), (('아침/NNG', '내겐/NP+JKB+JX'), 2), (('내겐/NP+JKB+JX', '정말/MAG'), 2), (('정말/MAG', '커다란/VA+ETM'), 2), (('이/VCP', '야/EC'), 2), (('가을/NNG', '아침/NNG', '내겐/NP+JKB+JX'), 2), (('아침/NNG', '내겐/NP+JKB+JX', '정말/MAG'), 2), (('내겐/NP+JKB+JX', '정말/MAG', '커다란/VA+ETM'), 2)])"
      ]
     },
     "execution_count": 19,
     "metadata": {
      "tags": []
     },
     "output_type": "execute_result"
    }
   ],
   "source": [
    "ngram_counter.items()"
   ]
  },
  {
   "cell_type": "code",
   "execution_count": 20,
   "metadata": {
    "colab": {
     "base_uri": "https://localhost:8080/",
     "height": 71
    },
    "colab_type": "code",
    "executionInfo": {
     "elapsed": 92154,
     "status": "ok",
     "timestamp": 1600697768363,
     "user": {
      "displayName": "전은지",
      "photoUrl": "",
      "userId": "10430352422751678562"
     },
     "user_tz": -540
    },
    "id": "sC_FsT1JojVN",
    "outputId": "3a88884e-045b-4926-a710-803089538428"
   },
   "outputs": [
    {
     "name": "stdout",
     "output_type": "stream",
     "text": [
      "('가을/NNG',) 2\n",
      "('가을/NNG', '아침/NNG') 2\n",
      "('가을/NNG', '아침/NNG', '내겐/NP+JKB+JX') 2\n"
     ]
    }
   ],
   "source": [
    "for ngram, count in sorted(ngram_counter.items(), key=lambda x:-x[1]):\n",
    "    if str(ngram).find('가을/NNG') != -1: # 가을을 포함한 경우\n",
    "        print(ngram, count)"
   ]
  },
  {
   "cell_type": "markdown",
   "metadata": {
    "colab_type": "text",
    "id": "KzWKE7jDmh2u"
   },
   "source": [
    "- n-gram 모델을 사용하더라도 단어가 한 번도 등장하지 않을 경우 조건부 확률의 값이 0이 되어버리기 때문에 백오프, 스무딩 등의 기법이 제안됨  \n",
    "  - 백오프: n-gram 등장 빈도를 n보다 작은 범위의 단어 시퀀스 빈도로 근사  \n",
    "  - 스무딩: n-gram 등장 빈도에 k를 더해줌 (add-K 스무딩)\n",
    "    - K가 1인 경우 라플라스(Laplace) 스무딩"
   ]
  },
  {
   "cell_type": "markdown",
   "metadata": {
    "colab_type": "text",
    "id": "tHVlhbbOZFn9"
   },
   "source": [
    "### 뉴럴 네트워크 기반 언어 모델 (6장)\n",
    "- 주어진 단어 시퀀스로 다음 단어를 예측하는 과정에서 학습됨  \n",
    "  - 학습 완료 후 결과물을 단어나 문장의 임베딩으로 활용 ex ELMo, GPT 등\n",
    "- 마스크 언어 모델(Masked language model): 문장 중간(마스크)에 어떤 단어가 올지 예측하는 과정에서 학습됨 ex BERT  \n",
    "  - 문장 전체를 다 보고 중간에 있는 단어를 예측하는, 양방향 학습이 가능  \n",
    "  - 순차적으로 단어를 입력받아 다음 단어를 맞추는 기존의 일방향 언어 모델보다 품질이 좋음  "
   ]
  },
  {
   "cell_type": "markdown",
   "metadata": {
    "colab_type": "text",
    "id": "g_h0Bin-ZH_C"
   },
   "source": [
    "## 어떤 단어가 **같이** 쓰였는가 (분포 가정)\n",
    "- 단어의 의미는 **주변 문맥(context)**를 통해 유추할 수 있다.  "
   ]
  },
  {
   "cell_type": "markdown",
   "metadata": {
    "colab_type": "text",
    "id": "svWYZNEZZLcn"
   },
   "source": [
    "### 분포 가정\n",
    "- 자연어 처리에서의 분포: 윈도우 내에 동시에 등장하는 이웃 단어 또는 문맥의 집합  "
   ]
  },
  {
   "cell_type": "markdown",
   "metadata": {
    "colab_type": "text",
    "id": "3pO1wjT3ZPGy"
   },
   "source": [
    "### 분포와 의미\n",
    "#### 형태소 관점\n",
    "- 형태소: 의미를 가지는 최소 단위  \n",
    "- 형태소를 분석하는 방법: 계열 관계  \n",
    "    - 해당 형태소 자리에 다른 형태소가 대치되어 사용될 수 있는가  \n",
    "    - \"*철수*가 *밥*을 먹었다.\"라는 문장에서 철수와 밥 자리에 다른 단어가 대치될 수 있다면 이 둘은 형태소임  \n",
    "\n",
    "#### 품사 관점\n",
    "- 품사: 단어를 문법적 성질의 공통성에 따라 언어학자들이 몇 갈래로 묶어 놓은 것  \n",
    "- 품사 분류 기준: 기능(한 단어가 문장 가운데서 다른 단어와 맺는 관계), 의미(단어의 형식적 의미), 형식(단어의 형태적 특징)  \n",
    "  - 이 중 가장 중요한 기준은 기능  "
   ]
  },
  {
   "cell_type": "markdown",
   "metadata": {
    "colab_type": "text",
    "id": "LpQLd_wAZUXe"
   },
   "source": [
    "### 점별 상호 정보량(PMI)\n",
    "- 두 확률변수 사이의 상관성을 계량화하는 단위  \n",
    "- 두 확률변수가 독립인 경우 PMI 값은 0  \n",
    "$$PMI(A,B)=log\\frac{P(A,B)}{P(A)\\times P(B)}$$\n",
    "- 분포 가정에 따라 단어 가중치를 할당하고, 행렬의 행 벡터 자체를 단어의 임베딩으로 사용할 수 있음  "
   ]
  },
  {
   "cell_type": "code",
   "execution_count": 21,
   "metadata": {
    "colab": {},
    "colab_type": "code",
    "executionInfo": {
     "elapsed": 88908,
     "status": "ok",
     "timestamp": 1600697768731,
     "user": {
      "displayName": "전은지",
      "photoUrl": "",
      "userId": "10430352422751678562"
     },
     "user_tz": -540
    },
    "id": "ZksScRsPr8SD"
   },
   "outputs": [],
   "source": [
    "from nltk import collocations"
   ]
  },
  {
   "cell_type": "code",
   "execution_count": 22,
   "metadata": {
    "colab": {
     "base_uri": "https://localhost:8080/",
     "height": 143
    },
    "colab_type": "code",
    "executionInfo": {
     "elapsed": 88503,
     "status": "ok",
     "timestamp": 1600697768733,
     "user": {
      "displayName": "전은지",
      "photoUrl": "",
      "userId": "10430352422751678562"
     },
     "user_tz": -540
    },
    "id": "_YbLlBO2rxiE",
    "outputId": "793b2fb4-57a0-47a8-8adc-ab46b644e285"
   },
   "outputs": [
    {
     "name": "stdout",
     "output_type": "stream",
     "text": [
      "이른 아침 작은 새들 노랫소리 들려오면 언제나 그랬듯 아쉽게 잠을 깬다 창문 하나 햇살 가득 눈부시게 비쳐오고 서늘한 냉기에 재채기할까 말까 가을 아침 내겐 정말 커다란 기쁨이야 가을 아침 내겐 정말 커다란 행복이야\n",
      "\n",
      "Collocations among tagged words:\n",
      "[(('가득', 'MAG'), ('눈부시', 'VA')), (('고', 'EC'), ('서늘', 'XR')), (('그랬', 'VV+EP'), ('듯', 'EC')), (('깬다', 'VV+EC'), ('창문', 'NNG')), (('냉기', 'NNG'), ('에', 'JKB'))]\n",
      "\n",
      "Collocations among words:\n",
      "[('내겐', '정말'), ('정말', '커다란'), ('가을', '아침'), ('아침', '내겐')]\n"
     ]
    }
   ],
   "source": [
    "# 참고: https://konlpy-ko.readthedocs.io/ko/v0.4.3/examples/collocations/\n",
    "\n",
    "doc = ' '.join(docs)\n",
    "print(doc)\n",
    "\n",
    "measures = collocations.BigramAssocMeasures()\n",
    "\n",
    "print('\\nCollocations among tagged words:')\n",
    "tagged_words = mecab.pos(doc)\n",
    "finder = collocations.BigramCollocationFinder.from_words(tagged_words)\n",
    "print(finder.nbest(measures.pmi, 5)) # top 5 n-grams with highest PMI\n",
    "\n",
    "print('\\nCollocations among words:')\n",
    "words = [w for w, t in tagged_words]\n",
    "ignored_words = [u'']\n",
    "finder = collocations.BigramCollocationFinder.from_words(words)\n",
    "finder.apply_word_filter(lambda w: len(w) < 2 or w in ignored_words)\n",
    "finder.apply_freq_filter(2) # only bigrams that appear 2+ times\n",
    "print(finder.nbest(measures.pmi, 5))"
   ]
  },
  {
   "cell_type": "markdown",
   "metadata": {
    "colab_type": "text",
    "id": "bNEDbGHJZVyq"
   },
   "source": [
    "### Word2Vec (4장)\n",
    "- 분포 가정의 대표적인 모델이며 PMI 행렬과 깊은 연관이 있음 (ex 잠재의미분석)  \n",
    "- 분산 표현을 통해 저차원에 단어의 의미를 여러 차원에 분산하여 표현함으로써 단어간 유사도를 계산할 수 있음\n",
    "  \n",
    "  \n",
    "#### CBOW 모델\n",
    "- 문맥 단어들을 통해 타깃 단어 하나를 맞추는 과정에서 학습  \n",
    "![Cbow](https://wikidocs.net/images/page/22660/%EB%8B%A8%EC%96%B4.PNG)\n",
    "![CBOW](https://wikidocs.net/images/page/22660/word2vec_renew_1.PNG)\n",
    "  - 입력: 사용자가 정한 윈도우 범위 안에 있는 주변 단어들의 원-핫(one-hot) 벡터  \n",
    "  - 출력: 예측하고자 하는 중간 단어의 원-핫 벡터  \n",
    "  - 주변 단어의 평균 값을 갖고 예측함\n",
    "\n",
    "#### Skip-gram 모델\n",
    "- 타깃 단어를 통해 문맥 단어가 무엇일지 예측하는 과정에서 학습  \n",
    "![SkipGram](https://wikidocs.net/images/page/22660/word2vec_renew_6.PNG)\n",
    "- 중심 단어로부터 주변 단어를 예측  \n",
    "\n",
    "- 전반적으로 Skip-gram이 CBOW보다 성능이 좋은 편    "
   ]
  },
  {
   "cell_type": "markdown",
   "metadata": {
    "colab_type": "text",
    "id": "TK2DdpWWG4OK"
   },
   "source": [
    "# 참고\n",
    "- NER(Named Entity Recognition)  \n",
    "  - 분류기를 사용하여 개체명 클래스(인물이름, 지명 등)를 분류함  \n",
    "  - 문제:\n",
    "    - entity의 경계(First National Bank VS National Bank)를 정하기가 힘듦  \n",
    "    - entity를 구분해내기도 힘듦(Future School을 고유한 entity로 볼지 일반적인 단어로 볼지)\n",
    "    - 기존에 알려지지 않은 entity는 분류하기가 어려움  \n",
    "  - Window Classification: 중심단어와 주변 단어들을 함께 분류에 활용  \n",
    "    - 해당 벡터들의 평균값을 사용할 수 있지만 위치 정보를 잃어버리는 문제가 발생\n",
    "      - 주변 단어들과 함께 벡터 평균을 계산해버리면 어떤 벡터를 분류하고자 하는지 알 수 없음\n",
    "    - 따라서 모든 단어를 사용해 분류기를 제작   \n",
    "      - Named entity가 중앙에 있는 window를 true window, 그렇지 않은 window를 corrupt라 하여, true window에 가까울수록 높은 점수를 리턴  \n",
    "      - 예를 들어 in이나 or 등의 전치사가 등장하면 그 다음 단어는 지명일 수 있다는 신호  \n",
    "    - 방법\n",
    "      - 출력 값을 softmax 확률값으로 변환하고 cross entropy loss를 사용하여 NER의 클래스를 분류  \n",
    "      - 출력 값을 그대로 사용하여 해당 클래스인지 아닌지를 max-margin loss를 사용하여 판별  \n",
    "\n",
    "- 더 자세한 내용은 [Stanford NLP with Deep Learning](https://youtu.be/8CWyBNX6eDo) 참고  "
   ]
  }
 ],
 "metadata": {
  "accelerator": "GPU",
  "colab": {
   "collapsed_sections": [
    "nT_FeH1wUvFJ"
   ],
   "name": "2장 벡터가 어떻게 의미를 가지게 되는가.ipynb",
   "provenance": []
  },
  "kernelspec": {
   "display_name": "Python 3",
   "language": "python",
   "name": "python3"
  },
  "language_info": {
   "codemirror_mode": {
    "name": "ipython",
    "version": 3
   },
   "file_extension": ".py",
   "mimetype": "text/x-python",
   "name": "python",
   "nbconvert_exporter": "python",
   "pygments_lexer": "ipython3",
   "version": "3.7.3"
  }
 },
 "nbformat": 4,
 "nbformat_minor": 1
}
